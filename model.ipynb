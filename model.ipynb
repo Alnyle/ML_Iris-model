{
 "cells": [
  {
   "cell_type": "code",
   "execution_count": 138,
   "metadata": {},
   "outputs": [],
   "source": [
    "import pandas as pd\n",
    "iris_data = pd.read_csv('./Iris.csv')"
   ]
  },
  {
   "cell_type": "code",
   "execution_count": 139,
   "metadata": {},
   "outputs": [
    {
     "data": {
      "text/plain": [
       "Index(['Id', 'SepalLengthCm', 'SepalWidthCm', 'PetalLengthCm', 'PetalWidthCm',\n",
       "       'Species'],\n",
       "      dtype='object')"
      ]
     },
     "execution_count": 139,
     "metadata": {},
     "output_type": "execute_result"
    }
   ],
   "source": [
    "iris_data.columns"
   ]
  },
  {
   "cell_type": "code",
   "execution_count": 140,
   "metadata": {},
   "outputs": [
    {
     "data": {
      "text/html": [
       "<div>\n",
       "<style scoped>\n",
       "    .dataframe tbody tr th:only-of-type {\n",
       "        vertical-align: middle;\n",
       "    }\n",
       "\n",
       "    .dataframe tbody tr th {\n",
       "        vertical-align: top;\n",
       "    }\n",
       "\n",
       "    .dataframe thead th {\n",
       "        text-align: right;\n",
       "    }\n",
       "</style>\n",
       "<table border=\"1\" class=\"dataframe\">\n",
       "  <thead>\n",
       "    <tr style=\"text-align: right;\">\n",
       "      <th></th>\n",
       "      <th>Id</th>\n",
       "      <th>SepalLengthCm</th>\n",
       "      <th>SepalWidthCm</th>\n",
       "      <th>PetalLengthCm</th>\n",
       "      <th>PetalWidthCm</th>\n",
       "      <th>Species</th>\n",
       "    </tr>\n",
       "  </thead>\n",
       "  <tbody>\n",
       "    <tr>\n",
       "      <th>0</th>\n",
       "      <td>1</td>\n",
       "      <td>5.1</td>\n",
       "      <td>3.5</td>\n",
       "      <td>1.4</td>\n",
       "      <td>0.2</td>\n",
       "      <td>Iris-setosa</td>\n",
       "    </tr>\n",
       "    <tr>\n",
       "      <th>1</th>\n",
       "      <td>2</td>\n",
       "      <td>4.9</td>\n",
       "      <td>3.0</td>\n",
       "      <td>1.4</td>\n",
       "      <td>0.2</td>\n",
       "      <td>Iris-setosa</td>\n",
       "    </tr>\n",
       "    <tr>\n",
       "      <th>2</th>\n",
       "      <td>3</td>\n",
       "      <td>4.7</td>\n",
       "      <td>3.2</td>\n",
       "      <td>1.3</td>\n",
       "      <td>0.2</td>\n",
       "      <td>Iris-setosa</td>\n",
       "    </tr>\n",
       "    <tr>\n",
       "      <th>3</th>\n",
       "      <td>4</td>\n",
       "      <td>4.6</td>\n",
       "      <td>3.1</td>\n",
       "      <td>1.5</td>\n",
       "      <td>0.2</td>\n",
       "      <td>Iris-setosa</td>\n",
       "    </tr>\n",
       "    <tr>\n",
       "      <th>4</th>\n",
       "      <td>5</td>\n",
       "      <td>5.0</td>\n",
       "      <td>3.6</td>\n",
       "      <td>1.4</td>\n",
       "      <td>0.2</td>\n",
       "      <td>Iris-setosa</td>\n",
       "    </tr>\n",
       "  </tbody>\n",
       "</table>\n",
       "</div>"
      ],
      "text/plain": [
       "   Id  SepalLengthCm  SepalWidthCm  PetalLengthCm  PetalWidthCm      Species\n",
       "0   1            5.1           3.5            1.4           0.2  Iris-setosa\n",
       "1   2            4.9           3.0            1.4           0.2  Iris-setosa\n",
       "2   3            4.7           3.2            1.3           0.2  Iris-setosa\n",
       "3   4            4.6           3.1            1.5           0.2  Iris-setosa\n",
       "4   5            5.0           3.6            1.4           0.2  Iris-setosa"
      ]
     },
     "execution_count": 140,
     "metadata": {},
     "output_type": "execute_result"
    }
   ],
   "source": [
    "iris_data.head()"
   ]
  },
  {
   "cell_type": "code",
   "execution_count": 141,
   "metadata": {},
   "outputs": [],
   "source": [
    "y = iris_data['Species']"
   ]
  },
  {
   "cell_type": "code",
   "execution_count": 142,
   "metadata": {},
   "outputs": [],
   "source": [
    "# Remove Id column \n",
    "iris_data = iris_data.drop(\"Id\", axis=True)"
   ]
  },
  {
   "cell_type": "code",
   "execution_count": 143,
   "metadata": {},
   "outputs": [
    {
     "data": {
      "text/html": [
       "<div>\n",
       "<style scoped>\n",
       "    .dataframe tbody tr th:only-of-type {\n",
       "        vertical-align: middle;\n",
       "    }\n",
       "\n",
       "    .dataframe tbody tr th {\n",
       "        vertical-align: top;\n",
       "    }\n",
       "\n",
       "    .dataframe thead th {\n",
       "        text-align: right;\n",
       "    }\n",
       "</style>\n",
       "<table border=\"1\" class=\"dataframe\">\n",
       "  <thead>\n",
       "    <tr style=\"text-align: right;\">\n",
       "      <th></th>\n",
       "      <th>SepalLengthCm</th>\n",
       "      <th>SepalWidthCm</th>\n",
       "      <th>PetalLengthCm</th>\n",
       "      <th>PetalWidthCm</th>\n",
       "      <th>Species</th>\n",
       "    </tr>\n",
       "  </thead>\n",
       "  <tbody>\n",
       "    <tr>\n",
       "      <th>0</th>\n",
       "      <td>5.1</td>\n",
       "      <td>3.5</td>\n",
       "      <td>1.4</td>\n",
       "      <td>0.2</td>\n",
       "      <td>Iris-setosa</td>\n",
       "    </tr>\n",
       "    <tr>\n",
       "      <th>1</th>\n",
       "      <td>4.9</td>\n",
       "      <td>3.0</td>\n",
       "      <td>1.4</td>\n",
       "      <td>0.2</td>\n",
       "      <td>Iris-setosa</td>\n",
       "    </tr>\n",
       "    <tr>\n",
       "      <th>2</th>\n",
       "      <td>4.7</td>\n",
       "      <td>3.2</td>\n",
       "      <td>1.3</td>\n",
       "      <td>0.2</td>\n",
       "      <td>Iris-setosa</td>\n",
       "    </tr>\n",
       "    <tr>\n",
       "      <th>3</th>\n",
       "      <td>4.6</td>\n",
       "      <td>3.1</td>\n",
       "      <td>1.5</td>\n",
       "      <td>0.2</td>\n",
       "      <td>Iris-setosa</td>\n",
       "    </tr>\n",
       "    <tr>\n",
       "      <th>4</th>\n",
       "      <td>5.0</td>\n",
       "      <td>3.6</td>\n",
       "      <td>1.4</td>\n",
       "      <td>0.2</td>\n",
       "      <td>Iris-setosa</td>\n",
       "    </tr>\n",
       "  </tbody>\n",
       "</table>\n",
       "</div>"
      ],
      "text/plain": [
       "   SepalLengthCm  SepalWidthCm  PetalLengthCm  PetalWidthCm      Species\n",
       "0            5.1           3.5            1.4           0.2  Iris-setosa\n",
       "1            4.9           3.0            1.4           0.2  Iris-setosa\n",
       "2            4.7           3.2            1.3           0.2  Iris-setosa\n",
       "3            4.6           3.1            1.5           0.2  Iris-setosa\n",
       "4            5.0           3.6            1.4           0.2  Iris-setosa"
      ]
     },
     "execution_count": 143,
     "metadata": {},
     "output_type": "execute_result"
    }
   ],
   "source": [
    "iris_data.head()\n"
   ]
  },
  {
   "cell_type": "code",
   "execution_count": 144,
   "metadata": {},
   "outputs": [
    {
     "data": {
      "text/html": [
       "<div>\n",
       "<style scoped>\n",
       "    .dataframe tbody tr th:only-of-type {\n",
       "        vertical-align: middle;\n",
       "    }\n",
       "\n",
       "    .dataframe tbody tr th {\n",
       "        vertical-align: top;\n",
       "    }\n",
       "\n",
       "    .dataframe thead th {\n",
       "        text-align: right;\n",
       "    }\n",
       "</style>\n",
       "<table border=\"1\" class=\"dataframe\">\n",
       "  <thead>\n",
       "    <tr style=\"text-align: right;\">\n",
       "      <th></th>\n",
       "      <th>SepalLengthCm</th>\n",
       "      <th>SepalWidthCm</th>\n",
       "      <th>PetalLengthCm</th>\n",
       "      <th>PetalWidthCm</th>\n",
       "    </tr>\n",
       "    <tr>\n",
       "      <th>Species</th>\n",
       "      <th></th>\n",
       "      <th></th>\n",
       "      <th></th>\n",
       "      <th></th>\n",
       "    </tr>\n",
       "  </thead>\n",
       "  <tbody>\n",
       "    <tr>\n",
       "      <th>Iris-setosa</th>\n",
       "      <td>50</td>\n",
       "      <td>50</td>\n",
       "      <td>50</td>\n",
       "      <td>50</td>\n",
       "    </tr>\n",
       "    <tr>\n",
       "      <th>Iris-versicolor</th>\n",
       "      <td>50</td>\n",
       "      <td>50</td>\n",
       "      <td>50</td>\n",
       "      <td>50</td>\n",
       "    </tr>\n",
       "    <tr>\n",
       "      <th>Iris-virginica</th>\n",
       "      <td>50</td>\n",
       "      <td>50</td>\n",
       "      <td>50</td>\n",
       "      <td>50</td>\n",
       "    </tr>\n",
       "  </tbody>\n",
       "</table>\n",
       "</div>"
      ],
      "text/plain": [
       "                 SepalLengthCm  SepalWidthCm  PetalLengthCm  PetalWidthCm\n",
       "Species                                                                  \n",
       "Iris-setosa                 50            50             50            50\n",
       "Iris-versicolor             50            50             50            50\n",
       "Iris-virginica              50            50             50            50"
      ]
     },
     "execution_count": 144,
     "metadata": {},
     "output_type": "execute_result"
    }
   ],
   "source": [
    "# count the number of flowers for each species.\n",
    "iris_data.groupby('Species').count()"
   ]
  },
  {
   "cell_type": "code",
   "execution_count": 145,
   "metadata": {},
   "outputs": [],
   "source": [
    "def convertToDigit(flower_type):\n",
    "    \n",
    "    if (flower_type == \"Iris-setosa\"):\n",
    "        return 0\n",
    "    elif (flower_type == \"Iris-versicolor\"):\n",
    "        return 1\n",
    "    elif (flower_type == \"Iris-virginica\"):\n",
    "        return 2\n",
    "    \n",
    "\n",
    "\n",
    "iris_data['Species'] = iris_data['Species'].apply(convertToDigit)\n"
   ]
  },
  {
   "cell_type": "code",
   "execution_count": 146,
   "metadata": {},
   "outputs": [],
   "source": [
    "y = iris_data['Species']"
   ]
  },
  {
   "cell_type": "code",
   "execution_count": 147,
   "metadata": {},
   "outputs": [],
   "source": [
    "iris_data = iris_data.drop(\"Species\", axis=True)"
   ]
  },
  {
   "cell_type": "code",
   "execution_count": 148,
   "metadata": {},
   "outputs": [
    {
     "data": {
      "text/html": [
       "<div>\n",
       "<style scoped>\n",
       "    .dataframe tbody tr th:only-of-type {\n",
       "        vertical-align: middle;\n",
       "    }\n",
       "\n",
       "    .dataframe tbody tr th {\n",
       "        vertical-align: top;\n",
       "    }\n",
       "\n",
       "    .dataframe thead th {\n",
       "        text-align: right;\n",
       "    }\n",
       "</style>\n",
       "<table border=\"1\" class=\"dataframe\">\n",
       "  <thead>\n",
       "    <tr style=\"text-align: right;\">\n",
       "      <th></th>\n",
       "      <th>SepalLengthCm</th>\n",
       "      <th>SepalWidthCm</th>\n",
       "      <th>PetalLengthCm</th>\n",
       "      <th>PetalWidthCm</th>\n",
       "    </tr>\n",
       "  </thead>\n",
       "  <tbody>\n",
       "    <tr>\n",
       "      <th>0</th>\n",
       "      <td>5.1</td>\n",
       "      <td>3.5</td>\n",
       "      <td>1.4</td>\n",
       "      <td>0.2</td>\n",
       "    </tr>\n",
       "    <tr>\n",
       "      <th>1</th>\n",
       "      <td>4.9</td>\n",
       "      <td>3.0</td>\n",
       "      <td>1.4</td>\n",
       "      <td>0.2</td>\n",
       "    </tr>\n",
       "    <tr>\n",
       "      <th>2</th>\n",
       "      <td>4.7</td>\n",
       "      <td>3.2</td>\n",
       "      <td>1.3</td>\n",
       "      <td>0.2</td>\n",
       "    </tr>\n",
       "    <tr>\n",
       "      <th>3</th>\n",
       "      <td>4.6</td>\n",
       "      <td>3.1</td>\n",
       "      <td>1.5</td>\n",
       "      <td>0.2</td>\n",
       "    </tr>\n",
       "    <tr>\n",
       "      <th>4</th>\n",
       "      <td>5.0</td>\n",
       "      <td>3.6</td>\n",
       "      <td>1.4</td>\n",
       "      <td>0.2</td>\n",
       "    </tr>\n",
       "  </tbody>\n",
       "</table>\n",
       "</div>"
      ],
      "text/plain": [
       "   SepalLengthCm  SepalWidthCm  PetalLengthCm  PetalWidthCm\n",
       "0            5.1           3.5            1.4           0.2\n",
       "1            4.9           3.0            1.4           0.2\n",
       "2            4.7           3.2            1.3           0.2\n",
       "3            4.6           3.1            1.5           0.2\n",
       "4            5.0           3.6            1.4           0.2"
      ]
     },
     "execution_count": 148,
     "metadata": {},
     "output_type": "execute_result"
    }
   ],
   "source": [
    "iris_data.head()"
   ]
  },
  {
   "cell_type": "markdown",
   "metadata": {},
   "source": []
  },
  {
   "cell_type": "code",
   "execution_count": 149,
   "metadata": {},
   "outputs": [],
   "source": [
    "import random\n",
    "def train_validate_test_split(X_data, Y_data, test_size: None | float = None,validate_size: None | float = None, train_size: None | float = None, shuffle: bool = True, random_state: None | int = None ) -> list:\n",
    "    \n",
    "    \n",
    "    \n",
    "    if len(X_data) != len(Y_data):\n",
    "        raise Exception(\"list size does not match\")\n",
    "    \n",
    "\n",
    "    X_train = []\n",
    "    X_test = []\n",
    "    X_validate = []\n",
    "    y_train = []\n",
    "    y_test = []\n",
    "    y_validate = []\n",
    "    \n",
    "    if shuffle or random_state is not None:\n",
    "        if random_state is not None:\n",
    "            random.seed(random_state)\n",
    "        # combine the two list togther and then (column based) all rows included with random state if is not none\n",
    "        all = pd.concat([X_data, Y_data], axis=1).sample(frac=1, random_state=random_state).reset_index(drop=True)\n",
    "        X_data, Y_data = all.iloc[:, :-1], all.iloc[:, -1] \n",
    "        \n",
    "        \n",
    "    train_index = 0    \n",
    "    if test_size is not None and validate_size is not None and train_size is not None:\n",
    "        if train_size + test_size + validate_size != 1:\n",
    "            raise Exception(\"percentages are invalid\")\n",
    "        else:\n",
    "            train_index = int(len(X_data) * train_size)  \n",
    " \n",
    "    elif test_size is None and validate_size is None and train_size is None:\n",
    "        test_size = 0.3\n",
    "        validate_size = 0.3\n",
    "        train_size = 0.4\n",
    "        train_index = int(len(X_data) * train_size)\n",
    "        \n",
    "    elif test_size is not None:\n",
    "        validate_size=validate_size or 0\n",
    "        train_size = 1 - test_size + validate_size\n",
    "        print(test_size)\n",
    "        print(validate_size)\n",
    "        print(train_size)\n",
    "        train_index = int(len(X_data) * train_size)\n",
    "         \n",
    "    elif train_size is not None:\n",
    "        validate_size=validate_size or 0\n",
    "        test_size = 1 - train_size + validate_size\n",
    "        train_index = int(len(X_data) * train_size)\n",
    "        \n",
    "\n",
    "    validate_index = train_index + int(len(X_data) * validate_size)\n",
    "    X_train,X_validate, X_test = X_data.iloc[:train_index, :],X_data.iloc[train_index:validate_index,:], X_data.iloc[validate_index:, :]\n",
    "    y_train,y_validate, y_test = Y_data.iloc[:train_index],Y_data.iloc[train_index:validate_index], Y_data.iloc[validate_index:]   \n",
    "    \n",
    "    return X_train,X_validate, X_test, y_train,y_validate, y_test    \n",
    "    \n",
    "y\n",
    "\n",
    "X_train,X_validate, X_test, Y_train,Y_validate, Y_test = train_validate_test_split(iris_data, y, train_size=.75,validate_size=0.12, random_state=42) # work\n",
    "# X_train, X_test, y_train, y_test = train_test_split(iris_data, y, test_size=.25) # work\n",
    "# X_train, X_test, y_train, y_test = train_test_split(iris_data, y, train_size=.75, test_size=.25) # work\n",
    "# X_train, X_test, y_train, y_test = train_test_split(iris_data, y, test_size=.3,train_size=.75) # should give a error\n"
   ]
  },
  {
   "cell_type": "markdown",
   "metadata": {},
   "source": [
    "[referenece](https://stackoverflow.com/questions/49556753/how-to-slice-a-list-into-3-parts-based-on-percentage)"
   ]
  },
  {
   "cell_type": "code",
   "execution_count": 150,
   "metadata": {},
   "outputs": [
    {
     "name": "stdout",
     "output_type": "stream",
     "text": [
      "Train data size: 112\n",
      "Train validate data size: 18\n",
      "test data size: 20\n",
      "target data of train data size: 112\n",
      "target data of validate size: 18\n",
      "target data of test data size: 20\n"
     ]
    }
   ],
   "source": [
    "print(f\"Train data size: {len(X_train)}\")\n",
    "print(f\"Train validate data size: {len(X_validate)}\")\n",
    "print(f\"test data size: {len(X_test)}\")\n",
    "print(f\"target data of train data size: {len(Y_train)}\")\n",
    "print(f\"target data of validate size: {len(Y_validate)}\")\n",
    "print(f\"target data of test data size: {len(Y_test)}\")"
   ]
  },
  {
   "cell_type": "code",
   "execution_count": 157,
   "metadata": {},
   "outputs": [
    {
     "data": {
      "text/plain": [
       "0.7"
      ]
     },
     "execution_count": 157,
     "metadata": {},
     "output_type": "execute_result"
    }
   ],
   "source": [
    "from sklearn.naive_bayes import GaussianNB\n",
    "model= GaussianNB()\n",
    "model.fit(X_train,Y_train)\n",
    "prediction=model.predict(X_test)\n",
    "# TODO: replace it with home made accuracy\n",
    "#from sklearn.metrics import accuracy_score\n",
    "#accuracy_score(prediction,Y_test)\n",
    "#help(accuracy_score)\n",
    "def homemade_accuracy(preddata,realdata):\n",
    "    counter=0\n",
    "    if(len(preddata)!=len(realdata)):\n",
    "       print(\"warning, data sizes don't match\")\n",
    "    else:\n",
    "            \n",
    "             for i in range (len(preddata)):\n",
    "                 if(preddata[i]==realdata.iloc[i]):\n",
    "                     counter+=1\n",
    "    accuracy=counter/len(preddata)\n",
    "    return accuracy\n",
    "\n",
    "homemade_accuracy(prediction,Y_test)\n",
    "twofeatureiris= iris_data.iloc[:,0:2]\n",
    "XTWOTrain,XTWOvalidate,XTWOtest,YTWOtrain,YTWOvalidates,YTWOtest = train_validate_test_split(twofeatureiris,y,train_size=.75,validate_size=0.12, random_state=42)\n",
    "modeltwofeature= GaussianNB()\n",
    "modeltwofeature.fit(XTWOTrain,YTWOtrain)\n",
    "pred=modeltwofeature.predict(XTWOtest)\n",
    "#twofeatureiris\n",
    "homemade_accuracy(pred,YTWOtest)\n"
   ]
  },
  {
   "cell_type": "code",
   "execution_count": null,
   "metadata": {},
   "outputs": [],
   "source": [
    "import seaborn as sns\n",
    "import matplotlib.pyplot as matp\n",
    "from sklearn.datasets import make_blobs\n",
    "flowers= pd.read_csv('./Iris.csv')\n",
    "\n",
    "#species1 = flowers.loc[flowers[\"Species\"] == \"Iris-setosa\"]\n",
    "#species2 = flowers.loc[flowers[\"Species\"] == \"Iris-versicolor\"]\n",
    "#species3 = flowers.loc[aba[\"Species\"] == \"Iris-virginica\"]\n",
    "\n",
    "flowdata1= flowers[[\"SepalLengthCm\",\"SepalWidthCm\",\"Species\"]] \n",
    "flowdata2= flowers[[\"SepalWidthCm\",\"PetalLengthCm\",\"Species\"]] \n",
    "flowdata3= flowers[[\"PetalLengthCm\",\"PetalWidthCm\",\"Species\"]] \n",
    "flowdata4= flowers[[\"PetalWidthCm\",\"SepalLengthCm\",\"Species\"]] \n",
    "#spec23= flowers.loc[(aba[\"Species\"]== \"Iris-versicolor\") | (flowers[\"Species\"]== \"Iris-virginica\")] \n",
    "#spec31= flowers.loc[(aba[\"Species\"]== \"Iris-virginica\") | (flowers[\"Species\"]== \"Iris-setosa\")] "
   ]
  },
  {
   "cell_type": "code",
   "execution_count": null,
   "metadata": {},
   "outputs": [],
   "source": [
    "P, Q = make_blobs(n_samples=1000, n_features=2, random_state=26, cluster_std=3)\n",
    "#SepalLengthCm \tSepalWidthCm \tPetalLengthCm \tPetalWidthCm\n",
    "sns.scatterplot(x=\"SepalLengthCm\", y=\"SepalWidthCm\", hue='Species', data=flowdata1)\n"
   ]
  },
  {
   "cell_type": "code",
   "execution_count": null,
   "metadata": {},
   "outputs": [],
   "source": [
    "sns.scatterplot(x=\"SepalWidthCm\", y=\"PetalLengthCm\", hue='Species', data=flowdata2)"
   ]
  },
  {
   "cell_type": "code",
   "execution_count": null,
   "metadata": {},
   "outputs": [],
   "source": [
    "sns.scatterplot(x=\"PetalLengthCm\", y=\"PetalWidthCm\", hue='Species', data=flowdata3)"
   ]
  },
  {
   "cell_type": "code",
   "execution_count": null,
   "metadata": {},
   "outputs": [],
   "source": [
    "sns.scatterplot(x=\"PetalWidthCm\", y=\"SepalLengthCm\", hue='Species', data=flowdata4)"
   ]
  },
  {
   "cell_type": "code",
   "execution_count": null,
   "metadata": {},
   "outputs": [],
   "source": [
    "import numpy as np\n",
    "import matplotlib.pyplot as plt\n",
    "\n",
    "from sklearn.datasets import load_iris\n",
    "\n",
    "# Parameters\n",
    "n_classes = 3\n",
    "plot_colors = \"ryb\"\n",
    "plot_step = 0.02\n",
    "\n",
    "#data\n",
    "iris= iris_data\n",
    "\n",
    "for pairidx, pair in enumerate([[0, 1], [0, 2], [0, 3],\n",
    "                                [1, 2], [1, 3], [2, 3]]):\n",
    "    # pair each two corresponding features\n",
    "    X = iris.iloc[:, pair].values\n",
    "\n",
    "    # Train\n",
    "    model2= GaussianNB()\n",
    "    model2.fit(X, y)\n",
    "\n",
    "    # Plot the decision boundary\n",
    "    plt.subplot(2, 3, pairidx + 1)\n",
    "\n",
    "    x_min, x_max = X[:, 0].min() - 1, X[:, 0].max() + 1\n",
    "    y_min, y_max = X[:, 1].min() - 1, X[:, 1].max() + 1\n",
    "    xx, yy = np.meshgrid(np.arange(x_min, x_max, plot_step),\n",
    "                         np.arange(y_min, y_max, plot_step))\n",
    "    plt.tight_layout(h_pad=0.5, w_pad=0.5, pad=2.5)\n",
    "\n",
    "    Z = model2.predict(np.c_[xx.ravel(), yy.ravel()])\n",
    "    Z = Z.reshape(xx.shape)\n",
    "    cs = plt.contourf(xx, yy, Z, cmap=plt.cm.RdYlBu)\n",
    "\n",
    "    plt.xlabel(iris.columns[pair[0]])\n",
    "    plt.ylabel(iris.columns[pair[1]])\n",
    "\n",
    "    # Plot the training points\n",
    "    for i, color in zip(range(n_classes), plot_colors):\n",
    "        idx = np.where(y == i)\n",
    "        plt.scatter(X[idx, 0], X[idx, 1], c=color,\n",
    "                    cmap=plt.cm.RdYlBu, edgecolor='black', s=15)\n",
    "\n",
    "plt.suptitle(\"Decision surface of a decision tree using paired features\")\n",
    "plt.legend(loc='lower right', borderpad=0, handletextpad=0)\n",
    "plt.axis(\"tight\")\n",
    "\n",
    "plt.figure()\n",
    "model2 = GaussianNB()\n",
    "model2.fit(iris.values, y)"
   ]
  },
  {
   "cell_type": "code",
   "execution_count": null,
   "metadata": {},
   "outputs": [],
   "source": []
  }
 ],
 "metadata": {
  "kernelspec": {
   "display_name": "base",
   "language": "python",
   "name": "python3"
  },
  "language_info": {
   "codemirror_mode": {
    "name": "ipython",
    "version": 3
   },
   "file_extension": ".py",
   "mimetype": "text/x-python",
   "name": "python",
   "nbconvert_exporter": "python",
   "pygments_lexer": "ipython3",
   "version": "3.12.7"
  }
 },
 "nbformat": 4,
 "nbformat_minor": 4
}
